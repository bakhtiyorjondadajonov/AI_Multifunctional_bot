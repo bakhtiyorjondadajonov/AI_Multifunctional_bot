{
  "nbformat": 4,
  "nbformat_minor": 0,
  "metadata": {
    "colab": {
      "provenance": [],
      "gpuType": "T4",
      "authorship_tag": "ABX9TyNik28B48mQ2ZVA6h142lMk",
      "include_colab_link": true
    },
    "kernelspec": {
      "name": "python3",
      "display_name": "Python 3"
    },
    "language_info": {
      "name": "python"
    },
    "accelerator": "GPU"
  },
  "cells": [
    {
      "cell_type": "markdown",
      "metadata": {
        "id": "view-in-github",
        "colab_type": "text"
      },
      "source": [
        "<a href=\"https://colab.research.google.com/github/bakhtiyorjondadajonov/AI_Multifunctional_bot/blob/main/test.ipynb\" target=\"_parent\"><img src=\"https://colab.research.google.com/assets/colab-badge.svg\" alt=\"Open In Colab\"/></a>"
      ]
    },
    {
      "cell_type": "code",
      "execution_count": 5,
      "metadata": {
        "colab": {
          "base_uri": "https://localhost:8080/"
        },
        "id": "AsFH3Z3SflLs",
        "outputId": "8a1068f0-1266-489b-a799-cef2486ae35c"
      },
      "outputs": [
        {
          "output_type": "stream",
          "name": "stdout",
          "text": [
            "My name is John\n"
          ]
        }
      ],
      "source": [
        "name=\"John\"\n",
        "print(f'My name is {name}')"
      ]
    },
    {
      "cell_type": "code",
      "source": [
        "\n",
        "import pandas as pd\n",
        "# files=pd.read_excel(\"./data/updated.xlsx\")\n",
        "# files.head()"
      ],
      "metadata": {
        "id": "kKuv8k0UhOJ_"
      },
      "execution_count": 8,
      "outputs": []
    },
    {
      "cell_type": "code",
      "source": [],
      "metadata": {
        "id": "MfPKYKhVmzu_"
      },
      "execution_count": null,
      "outputs": []
    }
  ]
}